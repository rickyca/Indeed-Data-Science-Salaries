{
 "cells": [
  {
   "cell_type": "markdown",
   "metadata": {
    "focus": false,
    "id": "69b9a648-bcc7-490d-9f9b-ea244d156bd6"
   },
   "source": [
    "# Web Scraping for Indeed.com and Predicting Data Science Salaries"
   ]
  },
  {
   "cell_type": "code",
   "execution_count": 10,
   "metadata": {
    "collapsed": true
   },
   "outputs": [],
   "source": [
    "#URL = \"http://www.indeed.com/jobs?q=data+scientist+%2420%2C000&l=New+York&start=10\"\n",
    "URL = \"https://www.indeed.com/jobs?q=data+scientist+$20,000&l=New+York&start=10\""
   ]
  },
  {
   "cell_type": "code",
   "execution_count": 11,
   "metadata": {
    "collapsed": true
   },
   "outputs": [],
   "source": [
    "import requests\n",
    "import bs4\n",
    "from bs4 import BeautifulSoup"
   ]
  },
  {
   "cell_type": "code",
   "execution_count": 12,
   "metadata": {
    "collapsed": false
   },
   "outputs": [],
   "source": [
    "response = requests.get(URL)\n",
    "soup = BeautifulSoup(response.text, 'lxml')"
   ]
  },
  {
   "cell_type": "code",
   "execution_count": 13,
   "metadata": {
    "collapsed": false
   },
   "outputs": [
    {
     "data": {
      "text/plain": [
       "<div class=\" row result\" data-jk=\"e3da67e5e297f668\" data-tn-component=\"organicJob\" id=\"p_e3da67e5e297f668\" itemscope=\"\" itemtype=\"http://schema.org/JobPosting\">\\n<h2 class=\"jobtitle\" id=\"jl_e3da67e5e297f668\">\\n<a class=\"turnstileLink\" data-tn-element=\"jobTitle\" href=\"/rc/clk?jk=e3da67e5e297f668&amp;fccid=8077183a161ef0fd\" itemprop=\"title\" onclick=\"setRefineByCookie(['salest']); return rclk(this,jobmap[0],true,0);\" onmousedown=\"return rclk(this,jobmap[0],0);\" rel=\"nofollow\" target=\"_blank\" title=\"Research Scientist\">Research <b>Scientist</b></a>\\n</h2>\\n<span class=\"company\" itemprop=\"hiringOrganization\" itemtype=\"http://schema.org/Organization\">\\n<span itemprop=\"name\">\\n<a href=\"/cmp/New-York-University\" onmousedown=\"this.href = appendParamsOnce(this.href, 'from=SERP&amp;campaignid=serp-linkcompanyname&amp;fromjk=e3da67e5e297f668&amp;jcid=fb8afb99610b0769')\" target=\"_blank\">\\n    NYU School of Medicine</a></span>\\n</span>\\n\\n - <a class=\"turnstileLink slNoUnderline \" data-tn-element=\"reviewStars\" data-tn-variant=\"cmplinktst2\" href=\"/cmp/New-York-University/reviews\" onmousedown=\"this.href = appendParamsOnce(this.href, '?campaignid=cmplinktst2&amp;from=SERP&amp;jt=Research+Scientist&amp;fromjk=e3da67e5e297f668&amp;jcid=fb8afb99610b0769');\" target=\"_blank\" title=\"Nyu School of Medicine reviews\">\\n<span class=\"ratings\"><span class=\"rating\" style=\"width:52.8px\"><!-- --></span></span>\\n<span class=\"slNoUnderline\">472 reviews</span></a>\\n - <span itemprop=\"jobLocation\" itemscope=\"\" itemtype=\"http://schema.org/Place\"><span class=\"location\" itemprop=\"address\" itemscope=\"\" itemtype=\"http://schema.org/Postaladdress\"><span itemprop=\"addressLocality\">New York, NY</span></span></span>\\n<table border=\"0\" cellpadding=\"0\" cellspacing=\"0\">\\n<tr>\\n<td class=\"snip\">\\n<div>\\n<span class=\"summary\" itemprop=\"description\">\\nMay develop protocol for the collection and quality of research <b>data</b>. We have an exciting opportunity to join our team as a Research <b>Scientist</b>....</span>\\n</div>\\n<div class=\"result-link-bar-container\">\\n<div class=\"result-link-bar\"><span class=\"result-link-source\">NYU Langone Medical Center </span>- <span class=\"date\">4 days ago</span> <span class=\"tt_set\" id=\"tt_set_0\">  -  <a class=\"sl resultLink save-job-link \" href=\"#\" id=\"sj_e3da67e5e297f668\" onclick=\"changeJobState('e3da67e5e297f668', 'save', 'linkbar', false); return false;\" title=\"Save this job to my.indeed\">save job</a> - <a class=\"sl resultLink more-link \" href=\"#\" id=\"tog_0\" onclick=\"toggleMoreLinks('e3da67e5e297f668'); return false;\">more...</a></span><div class=\"edit_note_content\" id=\"editsaved2_e3da67e5e297f668\" style=\"display:none;\"></div><script>window['result_e3da67e5e297f668'] = {\"showSource\": true, \"source\": \"NYU Langone Medical Center\", \"loggedIn\": false, \"showMyJobsLinks\": false,\"undoAction\": \"unsave\",\"relativeJobAge\": \"4 days ago\",\"jobKey\": \"e3da67e5e297f668\", \"myIndeedAvailable\": true, \"showMoreActionsLink\": true, \"resultNumber\": 0, \"jobStateChangedToSaved\": false, \"searchState\": \"q=data scientist $20,000&amp;l=New+York&amp;start=10\", \"basicPermaLink\": \"https://www.indeed.com\", \"saveJobFailed\": false, \"removeJobFailed\": false, \"requestPending\": false, \"notesEnabled\": true, \"currentPage\" : \"serp\", \"mjwebtransgroupactive\" : true, \"sponsored\" : false,\"reportJobButtonEnabled\": false, \"showMyJobsHired\": false, \"showSaveForSponsored\": false, \"showJobAge\": true};</script></div></div>\\n<div class=\"tab-container\">\\n<div class=\"more-links-container result-tab\" id=\"tt_display_0\" style=\"display:none;\"><a class=\"close-link closeLink\" href=\"#\" onclick=\"toggleMoreLinks('e3da67e5e297f668'); return false;\" title=\"Close\"></a><div class=\"more_actions\" id=\"more_0\"><ul><li><span class=\"mat\">View all <a href=\"/q-Nyu-School-of-Medicine-l-New-York,-NY-jobs.html\" rel=\"nofollow\">NYU School of Medicine jobs in New York, NY</a> - <a href=\"/l-New-York,-NY-jobs.html\">New York jobs</a></span></li><li><span class=\"mat\">Salary Search: <a href=\"/salaries/Research-Scientist-Salaries,-New-York-NY\" onmousedown=\"this.href = appendParamsOnce(this.href, '?campaignid=serp-more&amp;fromjk=e3da67e5e297f668&amp;from=serp-more');\">Research Scientist salaries in New York, NY</a></span></li><li><span class=\"mat\">Learn more about working at <a href=\"/cmp/New-York-University\" onmousedown=\"this.href = appendParamsOnce(this.href, '?fromjk=e3da67e5e297f668&amp;from=serp-more&amp;campaignid=serp-more&amp;jcid=fb8afb99610b0769');\">Nyu School of Medicine</a></span></li><li><span class=\"mat\"><a href=\"/cmp/New-York-University/faq\" onmousedown=\"this.href = appendParamsOnce(this.href, '?from=serp-more&amp;campaignid=serp-more&amp;fromjk=e3da67e5e297f668&amp;jcid=fb8afb99610b0769');\">Nyu School of Medicine questions about work, benefits, interviews and hiring process:</a><ul><li><a href=\"/cmp/New-York-University/faq/how-are-the-working-hours?quid=1an8of4i15nd18n2\" onmousedown=\"this.href = appendParamsOnce(this.href, '?from=serp-more&amp;campaignid=serp-more&amp;fromjk=e3da67e5e297f668&amp;jcid=fb8afb99610b0769');\">How are the working hours?</a></li><li><a href=\"/cmp/New-York-University/faq/what-is-the-most-stressful-part-about-working-at-new-york-university?quid=1b5dl9b800kbr7p2\" onmousedown=\"this.href = appendParamsOnce(this.href, '?from=serp-more&amp;campaignid=serp-more&amp;fromjk=e3da67e5e297f668&amp;jcid=fb8afb99610b0769');\">What is the most stressful part about working at New York University?</a></li></ul></span></li><li><span class=\"mat\">Related forums: <a href=\"/forum/job/Research-Scientist.html\">Research Scientist</a> - <a href=\"/forum/cmp/New-York-University.html\">New York University</a> - <a href=\"/forum/loc/New-York-New-York.html\">New York, New York</a></span></li></ul></div></div><div class=\"dya-container result-tab\"></div>\\n<div class=\"tellafriend-container result-tab email_job_content\"></div>\\n<div class=\"sign-in-container result-tab\"></div>\\n<div class=\"notes-container result-tab\"></div>\\n</div>\\n</td>\\n</tr>\\n</table>\\n</div>"
      ]
     },
     "execution_count": 13,
     "metadata": {},
     "output_type": "execute_result"
    }
   ],
   "source": [
    "jobs = soup.find_all('div', {'class':' row result'})\n",
    "jobs[0]"
   ]
  },
  {
   "cell_type": "code",
   "execution_count": 14,
   "metadata": {
    "collapsed": true
   },
   "outputs": [],
   "source": [
    "def get_jobs(URL):\n",
    "    response = requests.get(URL)\n",
    "    soup = BeautifulSoup(response.text, 'lxml')\n",
    "    jobs = soup.find_all('div', {'class':'row sjlast result', 'class': ' row result',\n",
    "                                 'class': 'row result'}) # ' row result'\n",
    "    return jobs"
   ]
  },
  {
   "cell_type": "code",
   "execution_count": 15,
   "metadata": {
    "collapsed": true
   },
   "outputs": [],
   "source": [
    "def extract_field(s, tag, class_=None, field_=None):\n",
    "    try:\n",
    "        if field_ == None:\n",
    "            for d in s.find_all(tag):\n",
    "                return d.text\n",
    "        else:\n",
    "            for d in s.find_all(tag, {class_:field_}):\n",
    "                return d.text.strip()\n",
    "    except:\n",
    "        return\n",
    "\n",
    "def extract_location(s):\n",
    "    return extract_field(s, 'span', 'class','location')\n",
    "    \n",
    "def extract_company(s):\n",
    "    return extract_field(s, 'span', 'class','company')\n",
    "\n",
    "def extract_job(s):\n",
    "    return extract_field(s,'a')\n",
    "\n",
    "def extract_salary(s):\n",
    "    return extract_field(s,'span', 'class', 'no-wrap')\n"
   ]
  },
  {
   "cell_type": "code",
   "execution_count": null,
   "metadata": {
    "collapsed": false
   },
   "outputs": [],
   "source": []
  },
  {
   "cell_type": "code",
   "execution_count": 17,
   "metadata": {
    "collapsed": false
   },
   "outputs": [
    {
     "name": "stdout",
     "output_type": "stream",
     "text": [
      "New York, NY\n",
      "NYU School of Medicine\n",
      "Research Scientist\n",
      "None\n",
      "\n",
      "\n",
      "New York, NY 10022 (Midtown area)\n",
      "McKinsey & Company\n",
      "Data Analyst - Wave\n",
      "None\n",
      "\n",
      "\n",
      "Albany, NY\n",
      "Research Foundation for Mental Hygiene, Inc.\n",
      "Research Scientist II\n",
      "$82,222 a year\n",
      "\n",
      "\n",
      "New York, NY 10022 (Midtown area)\n",
      "McKinsey & Company\n",
      "Analyst, Client Experience\n",
      "None\n",
      "\n",
      "\n",
      "New York, NY\n",
      "BuzzFeed\n",
      "HRIS Analyst\n",
      "None\n",
      "\n",
      "\n",
      "Brooklyn, NY\n",
      "DEPARTMENT OF FINANCE\n",
      "Data Analyst/Modeler\n",
      "$70,286 - $80,829 a year\n",
      "\n",
      "\n",
      "New York, NY\n",
      "Balyasny\n",
      "Quantitative Analyst, PM Development\n",
      "None\n",
      "\n",
      "\n",
      "New York, NY 10011 (Chelsea area)\n",
      "Spotify\n",
      "Data Science Manager - Premium Analytics\n",
      "None\n",
      "\n",
      "\n",
      "New York, NY\n",
      "Columbia University\n",
      "Statistical Programmer/Data Manager - General Medicine\n",
      "None\n",
      "\n",
      "\n"
     ]
    }
   ],
   "source": [
    "get_jobs(URL)\n",
    "for job in jobs:\n",
    "    print extract_location(job)\n",
    "    print extract_company(job)\n",
    "    print extract_job(job)\n",
    "    print extract_salary(job)\n",
    "    print '\\n'"
   ]
  },
  {
   "cell_type": "code",
   "execution_count": 18,
   "metadata": {
    "collapsed": true
   },
   "outputs": [],
   "source": [
    "import pandas as pd\n",
    "def get_parse_jobs(url):\n",
    "    df = pd.DataFrame(columns=['location', 'company', 'title', 'salary'])\n",
    "    jobs = get_jobs(url)\n",
    "    for job in jobs:\n",
    "        loc = extract_location(job)\n",
    "        comp = extract_company(job)\n",
    "        title = extract_job(job)\n",
    "        salary = extract_salary(job)\n",
    "        job_series = pd.Series([loc, comp, title, salary], index=['location', 'company', 'title', 'salary'])\n",
    "        df = df.append(job_series, ignore_index=True)\n",
    "    return df"
   ]
  },
  {
   "cell_type": "code",
   "execution_count": 19,
   "metadata": {
    "collapsed": false
   },
   "outputs": [
    {
     "name": "stdout",
     "output_type": "stream",
     "text": [
      "Houston 2017-06-18 11:13:26.667428\n",
      "Phoenix 2017-06-18 11:23:58.004905\n",
      "Chicago 2017-06-18 11:31:20.338350\n",
      "San+Francisco 2017-06-18 11:37:37.313445\n",
      "New+York 2017-06-18 11:44:22.599938\n",
      "Dallas 2017-06-18 11:51:06.939656\n",
      "Philadelphia 2017-06-18 11:57:53.769004\n",
      "Denver 2017-06-18 12:04:31.328390\n",
      "Los+Angeles 2017-06-18 12:11:07.371096\n",
      "Pittsburgh 2017-06-18 12:17:22.014272\n",
      "Miami 2017-06-18 12:23:24.911243\n",
      "Atlanta 2017-06-18 12:29:30.191094\n",
      "Seattle 2017-06-18 12:35:42.680322\n",
      "Austin 2017-06-18 12:42:25.025098\n",
      "Portland 2017-06-18 12:48:57.328052\n"
     ]
    }
   ],
   "source": [
    "import time\n",
    "import datetime\n",
    "url_template = \"http://www.indeed.com/jobs?q=data+scientist+%2420%2C000&l={}&start={}\"\n",
    "max_results_per_city = 5000 # Set this to a high-value (5000) to generate more results. \n",
    "# Crawling more results, will also take much longer. First test your code on a small number of results and then expand.\n",
    "\n",
    "results = []\n",
    "\n",
    "for city in set(['New+York', 'Chicago', 'San+Francisco', 'Austin', 'Seattle', \n",
    "    'Los+Angeles', 'Philadelphia', 'Atlanta', 'Dallas', 'Pittsburgh', \n",
    "    'Portland', 'Phoenix', 'Denver', 'Houston', 'Miami']):\n",
    "    for start in range(0, max_results_per_city, 10):\n",
    "        url = url_template\n",
    "        url = url.replace('{}',city,1)\n",
    "        url = url.replace('{}',str(start),1)\n",
    "        #print url\n",
    "        query = get_parse_jobs(url)\n",
    "        time.sleep(0.2)\n",
    "        results.append(query)\n",
    "    print city, datetime.datetime.now()"
   ]
  },
  {
   "cell_type": "code",
   "execution_count": 20,
   "metadata": {
    "collapsed": false
   },
   "outputs": [],
   "source": [
    "r = pd.concat(results, ignore_index=True)"
   ]
  },
  {
   "cell_type": "code",
   "execution_count": 21,
   "metadata": {
    "collapsed": false
   },
   "outputs": [
    {
     "data": {
      "text/html": [
       "<div>\n",
       "<table border=\"1\" class=\"dataframe\">\n",
       "  <thead>\n",
       "    <tr style=\"text-align: right;\">\n",
       "      <th></th>\n",
       "      <th>location</th>\n",
       "      <th>company</th>\n",
       "      <th>title</th>\n",
       "      <th>salary</th>\n",
       "    </tr>\n",
       "  </thead>\n",
       "  <tbody>\n",
       "    <tr>\n",
       "      <th>0</th>\n",
       "      <td>Houston, TX</td>\n",
       "      <td>Preferred Sands</td>\n",
       "      <td>Research Scientist</td>\n",
       "      <td>None</td>\n",
       "    </tr>\n",
       "    <tr>\n",
       "      <th>1</th>\n",
       "      <td>Houston, TX</td>\n",
       "      <td>Invesco</td>\n",
       "      <td>Lead Data Scientist</td>\n",
       "      <td>None</td>\n",
       "    </tr>\n",
       "    <tr>\n",
       "      <th>2</th>\n",
       "      <td>Houston, TX 77057</td>\n",
       "      <td>Wood Mackenzie</td>\n",
       "      <td>Research Analyst, US Upstream Research</td>\n",
       "      <td>None</td>\n",
       "    </tr>\n",
       "    <tr>\n",
       "      <th>3</th>\n",
       "      <td>United States</td>\n",
       "      <td>Predictive Science</td>\n",
       "      <td>Data Scientist</td>\n",
       "      <td>None</td>\n",
       "    </tr>\n",
       "    <tr>\n",
       "      <th>4</th>\n",
       "      <td>Houston, TX 77079</td>\n",
       "      <td>Johnson Service Group Inc.</td>\n",
       "      <td>Data Analysis, Mining and Modeling Specialist ...</td>\n",
       "      <td>None</td>\n",
       "    </tr>\n",
       "    <tr>\n",
       "      <th>5</th>\n",
       "      <td>Houston, TX 77057</td>\n",
       "      <td>Wood Mackenzie</td>\n",
       "      <td>Research Analyst, US Upstream Research</td>\n",
       "      <td>None</td>\n",
       "    </tr>\n",
       "    <tr>\n",
       "      <th>6</th>\n",
       "      <td>United States</td>\n",
       "      <td>Predictive Science</td>\n",
       "      <td>Data Scientist</td>\n",
       "      <td>None</td>\n",
       "    </tr>\n",
       "    <tr>\n",
       "      <th>7</th>\n",
       "      <td>Houston, TX 77057</td>\n",
       "      <td>Wood Mackenzie</td>\n",
       "      <td>Research Analyst, US Upstream Research</td>\n",
       "      <td>None</td>\n",
       "    </tr>\n",
       "    <tr>\n",
       "      <th>8</th>\n",
       "      <td>Houston, TX</td>\n",
       "      <td>Invesco</td>\n",
       "      <td>Lead Data Scientist</td>\n",
       "      <td>None</td>\n",
       "    </tr>\n",
       "    <tr>\n",
       "      <th>9</th>\n",
       "      <td>United States</td>\n",
       "      <td>Predictive Science</td>\n",
       "      <td>Data Scientist</td>\n",
       "      <td>None</td>\n",
       "    </tr>\n",
       "  </tbody>\n",
       "</table>\n",
       "</div>"
      ],
      "text/plain": [
       "            location                     company  \\\n",
       "0        Houston, TX             Preferred Sands   \n",
       "1        Houston, TX                     Invesco   \n",
       "2  Houston, TX 77057              Wood Mackenzie   \n",
       "3      United States          Predictive Science   \n",
       "4  Houston, TX 77079  Johnson Service Group Inc.   \n",
       "5  Houston, TX 77057              Wood Mackenzie   \n",
       "6      United States          Predictive Science   \n",
       "7  Houston, TX 77057              Wood Mackenzie   \n",
       "8        Houston, TX                     Invesco   \n",
       "9      United States          Predictive Science   \n",
       "\n",
       "                                               title salary  \n",
       "0                                 Research Scientist   None  \n",
       "1                                Lead Data Scientist   None  \n",
       "2             Research Analyst, US Upstream Research   None  \n",
       "3                                     Data Scientist   None  \n",
       "4  Data Analysis, Mining and Modeling Specialist ...   None  \n",
       "5             Research Analyst, US Upstream Research   None  \n",
       "6                                     Data Scientist   None  \n",
       "7             Research Analyst, US Upstream Research   None  \n",
       "8                                Lead Data Scientist   None  \n",
       "9                                     Data Scientist   None  "
      ]
     },
     "execution_count": 21,
     "metadata": {},
     "output_type": "execute_result"
    }
   ],
   "source": [
    "r.head(10)"
   ]
  },
  {
   "cell_type": "code",
   "execution_count": 22,
   "metadata": {
    "collapsed": false
   },
   "outputs": [],
   "source": [
    "r.to_csv(path_or_buf='ds_jobs.csv', encoding='utf8')"
   ]
  },
  {
   "cell_type": "code",
   "execution_count": null,
   "metadata": {
    "collapsed": true
   },
   "outputs": [],
   "source": [
    "# Using this code just to get the data\n",
    "# cleaning_code_project_4.ipyb is the following step"
   ]
  }
 ],
 "metadata": {
  "anaconda-cloud": {},
  "kernelspec": {
   "display_name": "Python 2",
   "language": "python",
   "name": "python2"
  },
  "language_info": {
   "codemirror_mode": {
    "name": "ipython",
    "version": 2
   },
   "file_extension": ".py",
   "mimetype": "text/x-python",
   "name": "python",
   "nbconvert_exporter": "python",
   "pygments_lexer": "ipython2",
   "version": "2.7.13"
  }
 },
 "nbformat": 4,
 "nbformat_minor": 0
}
